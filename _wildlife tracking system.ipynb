{
 "cells": [
  {
   "cell_type": "code",
   "execution_count": null,
   "id": "2a8c52f4",
   "metadata": {},
   "outputs": [],
   "source": []
  },
  {
   "cell_type": "code",
   "execution_count": null,
   "id": "aa5a7226",
   "metadata": {},
   "outputs": [],
   "source": []
  },
  {
   "cell_type": "code",
   "execution_count": null,
   "id": "90d82329",
   "metadata": {
    "scrolled": true
   },
   "outputs": [
    {
     "name": "stdout",
     "output_type": "stream",
     "text": [
      "1. add species name\n",
      " 2. view\n",
      " 3. search by specie name\n",
      " 4. exit\n",
      "1\n",
      "enter your species: cat\n",
      "enter your location: okara\n",
      "enter your date: 2020-10-10\n",
      "enter your time: 10:12:10\n",
      "[{'species': 'cat', 'location': 'okara', 'date': '2020-10-10', 'time': '10:12:10'}]\n"
     ]
    }
   ],
   "source": [
    "sightings = []\n",
    "def add_sighting ():\n",
    "    species = input(\"enter your species: \")\n",
    "    location = input(\"enter your location: \")\n",
    "    date = input(\"enter your date: \")\n",
    "    time = input(\"enter your time: \")\n",
    "    sighting = {\n",
    "        \"species\": species,\n",
    "        \"location\": location,\n",
    "        \"date\": date,\n",
    "        \"time\": time\n",
    "    }\n",
    "\n",
    "    sightings.append(sighting)\n",
    "    print(sightings)\n",
    "\n",
    "# function to display all sightings\n",
    "def view_sightings():\n",
    "        if not sightings:\n",
    "            print(\"No sightings found.\")\n",
    "        else:\n",
    "            for sighting in sightings:\n",
    "                print(\"Species:\", sighting[\"species\"])\n",
    "                print(\"Location:\", sighting[\"location\"])\n",
    "                print(\"Date:\", sighting[\"date\"])\n",
    "                print(\"Time:\", sighting[\"time\"])\n",
    "def search_sightings():\n",
    "    search_species = input(\"Enter the species name to search for: \")\n",
    "    found = False\n",
    "    for sighting in sightings:\n",
    "        if sighting[\"species\"].lower() == search_species.lower():\n",
    "            print(\"\\nSpecies:\", sighting[\"species\"])\n",
    "            print(\"Location:\", sighting[\"location\"])\n",
    "            print(\"Date:\", sighting[\"date\"])\n",
    "            print(\"Time:\", sighting[\"time\"])\n",
    "            found = True\n",
    "    if not found:\n",
    "        print(f\"No sightings found for species: {search_species}\")\n",
    "                \n",
    "while True:\n",
    "    choice = input(\"1. add species name\\n 2. view\\n 3. search by specie name\\n 4. exit\\n\")\n",
    "    if choice == \"1\":\n",
    "        add_sighting()\n",
    "    elif choice == \"2\":\n",
    "        view_sightings()\n",
    "    elif choice == \"3\":\n",
    "        search_sightings()\n",
    "    elif choice == \"4\":\n",
    "        break\n",
    "    else:\n",
    "        print(\"Invalid choice. Please try again.\")\n",
    "        "
   ]
  },
  {
   "cell_type": "code",
   "execution_count": null,
   "id": "64cd734e",
   "metadata": {},
   "outputs": [],
   "source": []
  },
  {
   "cell_type": "code",
   "execution_count": null,
   "id": "6c9c9856",
   "metadata": {},
   "outputs": [],
   "source": []
  },
  {
   "cell_type": "code",
   "execution_count": null,
   "id": "e116fda1",
   "metadata": {},
   "outputs": [],
   "source": []
  },
  {
   "cell_type": "code",
   "execution_count": null,
   "id": "a811b349",
   "metadata": {},
   "outputs": [],
   "source": []
  },
  {
   "cell_type": "code",
   "execution_count": null,
   "id": "eda1481b",
   "metadata": {},
   "outputs": [],
   "source": []
  }
 ],
 "metadata": {
  "kernelspec": {
   "display_name": "Python 3 (ipykernel)",
   "language": "python",
   "name": "python3"
  },
  "language_info": {
   "codemirror_mode": {
    "name": "ipython",
    "version": 3
   },
   "file_extension": ".py",
   "mimetype": "text/x-python",
   "name": "python",
   "nbconvert_exporter": "python",
   "pygments_lexer": "ipython3",
   "version": "3.8.10"
  }
 },
 "nbformat": 4,
 "nbformat_minor": 5
}
